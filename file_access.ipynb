{
 "cells": [
  {
   "cell_type": "code",
   "execution_count": 21,
   "metadata": {},
   "outputs": [],
   "source": [
    "import pandas as pd\n",
    "import glob "
   ]
  },
  {
   "cell_type": "code",
   "execution_count": 22,
   "metadata": {},
   "outputs": [],
   "source": [
    "#function to open dynamically range of csv file\n",
    "\n",
    "def file_range_access(y_range, x_range=0):\n",
    "    x_range, y_range = (x_range, y_range) if x_range < y_range else (y_range,x_range)\n",
    "    # enter your path to folder that contain the .csv file without including them\n",
    "    path = \" \"\n",
    "    all_files = glob.glob(path + \"/*.csv\")\n",
    "    n_files = all_files[x_range:y_range]\n",
    "    return n_files"
   ]
  },
  {
   "cell_type": "code",
   "execution_count": 23,
   "metadata": {},
   "outputs": [],
   "source": [
    "#function to open dynamically every csv file\n",
    "\n",
    "def file_access_all(): #enter list of csv file in place of 'all_files\n",
    "    #x_range, y_range = (x_range, y_range) if x_range < y_range else (y_range,x_range)\n",
    "    # enter your path to folder that contain the .csv file without including them\n",
    "    path = \"../new_coils_data\"\n",
    "    all_files = glob.glob(path + \"/*.csv\")\n",
    "    return all_files"
   ]
  }
 ],
 "metadata": {
  "interpreter": {
   "hash": "8b176d992100984cd95a45b04f997eae62c3cc8f1cb2dbcbcd0590c01d60adf7"
  },
  "kernelspec": {
   "display_name": "Python 3.9.7 ('base')",
   "language": "python",
   "name": "python3"
  },
  "language_info": {
   "codemirror_mode": {
    "name": "ipython",
    "version": 3
   },
   "file_extension": ".py",
   "mimetype": "text/x-python",
   "name": "python",
   "nbconvert_exporter": "python",
   "pygments_lexer": "ipython3",
   "version": "3.9.7"
  },
  "orig_nbformat": 4
 },
 "nbformat": 4,
 "nbformat_minor": 2
}
