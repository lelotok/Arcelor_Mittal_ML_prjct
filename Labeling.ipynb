{
 "cells": [
  {
   "cell_type": "code",
   "execution_count": null,
   "id": "d3f65823",
   "metadata": {},
   "outputs": [],
   "source": [
    "import pandas as pd\n",
    "import numpy as np\n",
    "import matplotlib.pyplot as plt\n",
    "from project_functions import file_range_access"
   ]
  },
  {
   "cell_type": "code",
   "execution_count": null,
   "id": "3593f549",
   "metadata": {},
   "outputs": [],
   "source": [
    "# Opening the files\n",
    "df = pd.read_csv(\"..\\\\..\\\\Documents\\\\Arcellor_Mittal_project\\\\CoilData.csv\")\n",
    "coil_list = df.coil\n",
    "\n",
    "for coil in coil_list:\n",
    "    \n",
    "    B4 = pd.read_csv(f\"../../Documents/Arcellor_Mittal_project/CleanedData/{coil}B4.csv\")\n",
    "    B5 = pd.read_csv(f\"../../Documents/Arcellor_Mittal_project/CleanedData/{coil}B5.csv\")\n",
    "    \n",
    "    print(coil)\n",
    "    \n",
    "    # Splitting the Values columns, *change in script?*\n",
    "\n",
    "    B4.rename(columns = {'Values':'B4_Values'}, inplace = True)\n",
    "    B5.rename(columns = {'Values':'B5_Values'}, inplace = True)\n",
    "\n",
    "    # Setting the desired Lengthpoints\n",
    "\n",
    "    B4 = B4[B4.Lengthpoints >= 140]\n",
    "    B5 = B5[B5.Lengthpoints >= 140]\n",
    "\n",
    "    B4 = B4[B4.Lengthpoints <= 170]\n",
    "    B5 = B5[B5.Lengthpoints <= 170]\n",
    "\n",
    "    # Finding closest values from B5 Lengthpoints to B4 Lengthpoints.\n",
    "    # This will then change the Lengthpoint of B5 to the closest matching B4 Lengthpoint.\n",
    "\n",
    "    index = 0\n",
    "    B4_array = B4['Lengthpoints'].to_numpy()\n",
    "    B5_array = B5['Lengthpoints'].to_numpy()\n",
    "\n",
    "    for lengthpoint in B5.Lengthpoints:\n",
    "    \n",
    "        closest = np.abs(B4_array-lengthpoint).argmin()\n",
    "        closest_element = B4_array[closest]\n",
    "    \n",
    "        B5_array[index] = closest_element\n",
    "        index+=1\n",
    "\n",
    "    B5.Lengthpoints = B5_array \n",
    "\n",
    "    # Creating a merged dataframe of B4 and B5.\n",
    "    # Adding a difference column to show all width differences in mm.\n",
    "    # Filling the NaN values with the next value or if not available the previous value.\n",
    "\n",
    "    # If you don't want any NaN values in the dataframe, you can remove the 'how= 'left'' \n",
    "    # from merged_df = pd.merge(B4,B5, how= 'left'). This will then automatically exclude the NaN values.\n",
    "\n",
    "    merged_df = pd.merge(B4,B5, how= 'left')\n",
    "    merged_df['difference'] = merged_df['B5_Values']-merged_df['B4_Values']\n",
    "    merged_df.fillna(method ='bfill', inplace = True)\n",
    "    merged_df.fillna(method ='pad', inplace = True)\n",
    "\n",
    "    # We create the values to put into the columns of CoilData\n",
    "\n",
    "    possible_constriction_count = (merged_df['difference']<=-4).sum()\n",
    "\n",
    "    diff = merged_df['difference'].min()\n",
    "    \n",
    "    constrictions = []\n",
    "    for each in merged_df['difference']:\n",
    "        if each <= -0.1:\n",
    "            constrictions.append(each)\n",
    "\n",
    "    # We write the information to out CoilData file so we have an overview of which one constricted, what the largest constriction\n",
    "    # is per coil and how many constrictions of equal to or over 4mm there are.\n",
    "\n",
    "    coil_index = df.index[df['coil']== coil].tolist()\n",
    "    \n",
    "    if len(constrictions) == len(merged_df.difference):  \n",
    "        df.at[coil_index[0],'Constriction'] = \"False\"\n",
    "    elif possible_constriction_count == 1:\n",
    "        df.at[coil_index[0],'Constriction'] = \"False\"\n",
    "    elif -50<= diff <= -4:\n",
    "        df.at[coil_index[0],'Constriction'] = \"True\"\n",
    "        df.at[coil_index[0],'Max separation'] = abs(diff)\n",
    "        df.at[coil_index[0],'Number of separation points'] = possible_constriction_count\n",
    "    else:\n",
    "        df.at[coil_index[0],'Constriction'] = \"False\"    \n",
    "    \n",
    "df.to_csv(\"..\\\\..\\\\Documents\\\\Arcellor_Mittal_project\\\\CoilData_test.csv\", index=False)"
   ]
  },
  {
   "cell_type": "code",
   "execution_count": null,
   "id": "ae3ec1d8",
   "metadata": {},
   "outputs": [],
   "source": [
    "print(len(constrictions))\n",
    "print(len(merged_df.difference))"
   ]
  },
  {
   "cell_type": "code",
   "execution_count": null,
   "id": "7006af04",
   "metadata": {},
   "outputs": [],
   "source": [
    "merged_df"
   ]
  },
  {
   "cell_type": "code",
   "execution_count": null,
   "id": "7d4d63ff",
   "metadata": {},
   "outputs": [],
   "source": []
  }
 ],
 "metadata": {
  "kernelspec": {
   "display_name": "Python 3 (ipykernel)",
   "language": "python",
   "name": "python3"
  },
  "language_info": {
   "codemirror_mode": {
    "name": "ipython",
    "version": 3
   },
   "file_extension": ".py",
   "mimetype": "text/x-python",
   "name": "python",
   "nbconvert_exporter": "python",
   "pygments_lexer": "ipython3",
   "version": "3.9.7"
  }
 },
 "nbformat": 4,
 "nbformat_minor": 5
}
