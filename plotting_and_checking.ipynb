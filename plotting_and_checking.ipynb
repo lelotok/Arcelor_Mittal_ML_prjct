{
 "cells": [
  {
   "cell_type": "code",
   "execution_count": null,
   "metadata": {},
   "outputs": [],
   "source": [
    "import pandas as pd\n",
    "import numpy as np\n",
    "import matplotlib.pyplot as plt"
   ]
  },
  {
   "cell_type": "code",
   "execution_count": null,
   "metadata": {},
   "outputs": [],
   "source": [
    "coil = 450063\n",
    "\n",
    "\n",
    "B4 = pd.read_csv(f\"../../Documents/Arcellor_Mittal_project/CleanedData/{coil}B4.csv\")\n",
    "B5 = pd.read_csv(f\"../../Documents/Arcellor_Mittal_project/CleanedData/{coil}B5.csv\")"
   ]
  },
  {
   "cell_type": "code",
   "execution_count": null,
   "metadata": {},
   "outputs": [],
   "source": [
    "B4.rename(columns = {'Values':'B4_Values'}, inplace = True)\n",
    "B5.rename(columns = {'Values':'B5_Values'}, inplace = True)\n",
    "\n",
    "\n",
    "B4 = B4[B4.Lengthpoints >= 140]\n",
    "B5 = B5[B5.Lengthpoints >= 140]\n",
    "\n",
    "B4 = B4[B4.Lengthpoints <= 170]\n",
    "B5 = B5[B5.Lengthpoints <= 170]"
   ]
  },
  {
   "cell_type": "code",
   "execution_count": null,
   "metadata": {},
   "outputs": [],
   "source": [
    "plt.plot(B4.Lengthpoints,B4.B4_Values)\n",
    "plt.plot(B5.Lengthpoints,B5.B5_Values)\n",
    "plt.legend(['B4','B5'])\n",
    "plt.show()"
   ]
  },
  {
   "cell_type": "code",
   "execution_count": null,
   "metadata": {},
   "outputs": [],
   "source": [
    "index = 0\n",
    "B4_array = B4['Lengthpoints'].to_numpy()\n",
    "B5_array = B5['Lengthpoints'].to_numpy()\n",
    "\n",
    "for lengthpoint in B5.Lengthpoints:\n",
    "    closest = np.abs(B4_array-lengthpoint).argmin()\n",
    "    closest_element = B4_array[closest]\n",
    "    \n",
    "    B5_array[index] = closest_element\n",
    "    index+=1\n",
    "B5.Lengthpoints = B5_array "
   ]
  },
  {
   "cell_type": "code",
   "execution_count": null,
   "metadata": {},
   "outputs": [],
   "source": [
    "merged_df = pd.merge(B4,B5, how= 'left')\n",
    "merged_df['difference'] = merged_df['B5_Values']-merged_df['B4_Values']\n",
    "merged_df.fillna(method ='bfill', inplace = True)\n",
    "merged_df.fillna(method ='pad', inplace = True)\n",
    "\n",
    "pd.set_option('display.max_rows', None)\n",
    "merged_df"
   ]
  }
 ],
 "metadata": {
  "kernelspec": {
   "display_name": "Python 3",
   "language": "python",
   "name": "python3"
  },
  "language_info": {
   "codemirror_mode": {
    "name": "ipython",
    "version": 3
   },
   "file_extension": ".py",
   "mimetype": "text/x-python",
   "name": "python",
   "nbconvert_exporter": "python",
   "pygments_lexer": "ipython3",
   "version": "3.8.10"
  }
 },
 "nbformat": 4,
 "nbformat_minor": 5
}
