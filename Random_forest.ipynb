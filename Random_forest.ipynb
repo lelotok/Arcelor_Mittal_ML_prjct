{
 "cells": [
  {
   "cell_type": "code",
   "execution_count": 17,
   "id": "61bfc8ae",
   "metadata": {},
   "outputs": [],
   "source": [
    "import pandas as pd\n",
    "import numpy as np\n",
    "\n",
    "from sklearn.ensemble import RandomForestClassifier\n",
    "from sklearn.model_selection import train_test_split\n",
    "from sklearn.metrics import accuracy_score\n",
    "from sklearn.metrics import precision_score\n",
    "from sklearn.metrics import recall_score"
   ]
  },
  {
   "cell_type": "code",
   "execution_count": 2,
   "id": "dab37685",
   "metadata": {},
   "outputs": [],
   "source": [
    "df_predict = pd.read_csv(\"..\\\\..\\\\Documents\\\\Arcellor_Mittal_project\\\\CoilData_test.csv\")"
   ]
  },
  {
   "cell_type": "code",
   "execution_count": 3,
   "id": "2d8a869c",
   "metadata": {},
   "outputs": [],
   "source": [
    "df_predict.drop(['Unnamed: 0', 'coil','Max separation', 'Thickness profile','Hardness_2', 'Number of separation points'],inplace = True, axis = 1)"
   ]
  },
  {
   "cell_type": "code",
   "execution_count": 4,
   "id": "670119d7",
   "metadata": {},
   "outputs": [],
   "source": [
    "for column in df_predict[['Hardness_1', 'Width',\n",
    "       'Temperature before finishing mill', 'Temperature after finishing mill',\n",
    "       'Thickness', 'c', 'mn', 'si', 'nb', 'p', 's', 'al',\n",
    "       'ma', 'b', 'n', 'ti', 'cr', 'va', 'mo']]:\n",
    "    df_predict[column] = pd.to_numeric(df_predict[column], errors=\"coerce\")"
   ]
  },
  {
   "cell_type": "code",
   "execution_count": 5,
   "id": "61f34afd",
   "metadata": {},
   "outputs": [],
   "source": [
    "# df_predict.isnull().sum()"
   ]
  },
  {
   "cell_type": "code",
   "execution_count": 6,
   "id": "21e47277",
   "metadata": {},
   "outputs": [],
   "source": [
    "df_predict.dropna(axis = 0, how = 'any', inplace = True)"
   ]
  },
  {
   "cell_type": "code",
   "execution_count": 7,
   "id": "269a2425",
   "metadata": {},
   "outputs": [],
   "source": [
    "for i in df_predict:\n",
    "    if df_predict[i].dtypes == \"int64\":\n",
    "        df_predict[i] = df_predict[i].astype(float)"
   ]
  },
  {
   "cell_type": "code",
   "execution_count": 8,
   "id": "5ec408f4",
   "metadata": {},
   "outputs": [
    {
     "data": {
      "text/plain": [
       "furnace Number                       float64\n",
       "analyse                               object\n",
       "Hardness_1                           float64\n",
       "Width                                float64\n",
       "Temperature before finishing mill    float64\n",
       "Temperature after finishing mill     float64\n",
       "Thickness                            float64\n",
       "c                                    float64\n",
       "mn                                   float64\n",
       "si                                   float64\n",
       "nb                                   float64\n",
       "p                                    float64\n",
       "s                                    float64\n",
       "al                                   float64\n",
       "ma                                   float64\n",
       "b                                    float64\n",
       "n                                    float64\n",
       "ti                                   float64\n",
       "cr                                   float64\n",
       "va                                   float64\n",
       "mo                                   float64\n",
       "Constriction                            bool\n",
       "dtype: object"
      ]
     },
     "execution_count": 8,
     "metadata": {},
     "output_type": "execute_result"
    }
   ],
   "source": [
    "df_predict.dtypes"
   ]
  },
  {
   "cell_type": "code",
   "execution_count": 9,
   "id": "42a5bd0d",
   "metadata": {},
   "outputs": [],
   "source": [
    "X = df_predict.drop(\"Constriction\", axis=1)\n",
    "y = df_predict[\"Constriction\"]\n",
    "\n",
    "X = pd.get_dummies(X)\n",
    "\n",
    "X_train, X_test, y_train, y_test = train_test_split(X, y, test_size=0.3, random_state=42)"
   ]
  },
  {
   "cell_type": "code",
   "execution_count": 10,
   "id": "79d9f1ca",
   "metadata": {},
   "outputs": [
    {
     "data": {
      "text/plain": [
       "\"from sklearn.model_selection import GridSearchCV\\n\\n\\ngrid = { \\n    'n_estimators': [300],\\n    'max_features': ['sqrt', 'log2'],\\n    'max_depth' : [8,9,10,11,12,13,14,15,16,17,18,19,20],\\n    'criterion' :['gini', 'entropy'],\\n    'random_state' : [42]\\n}\\n\\nrf_cv = GridSearchCV(estimator=RandomForestClassifier(), param_grid=grid, cv= 5)\\nrf_cv.fit(X_train, y_train)\\n\\nrf_cv.best_params_\""
      ]
     },
     "execution_count": 10,
     "metadata": {},
     "output_type": "execute_result"
    }
   ],
   "source": [
    "\"\"\"from sklearn.model_selection import GridSearchCV\n",
    "\n",
    "\n",
    "grid = { \n",
    "    'n_estimators': [300],\n",
    "    'max_features': ['sqrt', 'log2'],\n",
    "    'max_depth' : [8,9,10,11,12,13,14,15,16,17,18,19,20],\n",
    "    'criterion' :['gini', 'entropy'],\n",
    "    'random_state' : [42]\n",
    "}\n",
    "\n",
    "rf_cv = GridSearchCV(estimator=RandomForestClassifier(), param_grid=grid, cv= 5)\n",
    "rf_cv.fit(X_train, y_train)\n",
    "\n",
    "rf_cv.best_params_\"\"\""
   ]
  },
  {
   "cell_type": "code",
   "execution_count": 11,
   "id": "d06858a5",
   "metadata": {},
   "outputs": [
    {
     "data": {
      "text/html": [
       "<div>\n",
       "<style scoped>\n",
       "    .dataframe tbody tr th:only-of-type {\n",
       "        vertical-align: middle;\n",
       "    }\n",
       "\n",
       "    .dataframe tbody tr th {\n",
       "        vertical-align: top;\n",
       "    }\n",
       "\n",
       "    .dataframe thead th {\n",
       "        text-align: right;\n",
       "    }\n",
       "</style>\n",
       "<table border=\"1\" class=\"dataframe\">\n",
       "  <thead>\n",
       "    <tr style=\"text-align: right;\">\n",
       "      <th>Predicted</th>\n",
       "      <th>False</th>\n",
       "      <th>True</th>\n",
       "      <th>All</th>\n",
       "    </tr>\n",
       "    <tr>\n",
       "      <th>Actual</th>\n",
       "      <th></th>\n",
       "      <th></th>\n",
       "      <th></th>\n",
       "    </tr>\n",
       "  </thead>\n",
       "  <tbody>\n",
       "    <tr>\n",
       "      <th>False</th>\n",
       "      <td>16226</td>\n",
       "      <td>30</td>\n",
       "      <td>16256</td>\n",
       "    </tr>\n",
       "    <tr>\n",
       "      <th>True</th>\n",
       "      <td>458</td>\n",
       "      <td>17</td>\n",
       "      <td>475</td>\n",
       "    </tr>\n",
       "    <tr>\n",
       "      <th>All</th>\n",
       "      <td>16684</td>\n",
       "      <td>47</td>\n",
       "      <td>16731</td>\n",
       "    </tr>\n",
       "  </tbody>\n",
       "</table>\n",
       "</div>"
      ],
      "text/plain": [
       "Predicted  False  True    All\n",
       "Actual                       \n",
       "False      16226    30  16256\n",
       "True         458    17    475\n",
       "All        16684    47  16731"
      ]
     },
     "execution_count": 11,
     "metadata": {},
     "output_type": "execute_result"
    }
   ],
   "source": [
    "#scale the features\n",
    "from sklearn.preprocessing import StandardScaler\n",
    "\n",
    "sc = StandardScaler()\n",
    "\n",
    "X_train = sc.fit_transform(X_train)\n",
    "X_test = sc.transform(X_test)\n",
    "\n",
    "\n",
    "clf = RandomForestClassifier(max_features = 'sqrt', criterion = 'gini', n_estimators = 300, class_weight= \"balanced_subsample\")\n",
    "clf = clf.fit(X_train, y_train)\n",
    "\n",
    "\n",
    "from sklearn.metrics import confusion_matrix\n",
    "\n",
    "y_pred = clf.predict(X_test)\n",
    "confusion_matrix(y_pred=y_pred, y_true=y_test)\n",
    "\n",
    "pd.crosstab(y_test, y_pred, rownames = ['Actual'], colnames =['Predicted'], margins = True)"
   ]
  },
  {
   "cell_type": "code",
   "execution_count": 12,
   "id": "21966d95",
   "metadata": {},
   "outputs": [
    {
     "data": {
      "text/plain": [
       "1.0"
      ]
     },
     "execution_count": 12,
     "metadata": {},
     "output_type": "execute_result"
    }
   ],
   "source": [
    "clf.score(X_train, y_train)"
   ]
  },
  {
   "cell_type": "code",
   "execution_count": 13,
   "id": "53ca47ba",
   "metadata": {},
   "outputs": [
    {
     "data": {
      "text/plain": [
       "0.9708325862172016"
      ]
     },
     "execution_count": 13,
     "metadata": {},
     "output_type": "execute_result"
    }
   ],
   "source": [
    "clf.score(X_test, y_test)"
   ]
  },
  {
   "cell_type": "code",
   "execution_count": 18,
   "id": "f69aecfa",
   "metadata": {},
   "outputs": [
    {
     "name": "stdout",
     "output_type": "stream",
     "text": [
      "Precision: 0.362\n",
      "Recall: 0.036\n",
      "Accuracy: 0.971\n"
     ]
    }
   ],
   "source": [
    "print('Precision: %.3f' % precision_score(y_test, y_pred))\n",
    "print('Recall: %.3f' % recall_score(y_test, y_pred))\n",
    "print('Accuracy: %.3f' % accuracy_score(y_test, y_pred))"
   ]
  },
  {
   "cell_type": "code",
   "execution_count": null,
   "id": "c4b6fcf9",
   "metadata": {},
   "outputs": [],
   "source": []
  }
 ],
 "metadata": {
  "kernelspec": {
   "display_name": "Python 3 (ipykernel)",
   "language": "python",
   "name": "python3"
  },
  "language_info": {
   "codemirror_mode": {
    "name": "ipython",
    "version": 3
   },
   "file_extension": ".py",
   "mimetype": "text/x-python",
   "name": "python",
   "nbconvert_exporter": "python",
   "pygments_lexer": "ipython3",
   "version": "3.9.7"
  }
 },
 "nbformat": 4,
 "nbformat_minor": 5
}
