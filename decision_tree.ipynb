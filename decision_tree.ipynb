{
 "cells": [
  {
   "cell_type": "markdown",
   "metadata": {},
   "source": [
    "# Decision tree"
   ]
  },
  {
   "cell_type": "code",
   "execution_count": 1,
   "metadata": {},
   "outputs": [],
   "source": [
    "import pandas as pd\n",
    "from sklearn.model_selection import train_test_split\n",
    "from sklearn import tree\n",
    "from utils import filepaths"
   ]
  },
  {
   "cell_type": "code",
   "execution_count": 2,
   "metadata": {},
   "outputs": [
    {
     "data": {
      "text/plain": [
       "Index(['Unnamed: 0', 'coil', 'furnace Number', 'analyse', 'Hardness_1',\n",
       "       'Hardness_2', 'Width', 'Temperature before finishing mill',\n",
       "       'Temperature after finishing mill', 'Thickness', 'Thickness profile',\n",
       "       'c', 'mn', 'si', 'nb', 'p', 's', 'al', 'ma', 'b', 'n', 'ti', 'cr', 'va',\n",
       "       'mo', 'Constriction', 'Max separation', 'Number of separation points'],\n",
       "      dtype='object')"
      ]
     },
     "execution_count": 2,
     "metadata": {},
     "output_type": "execute_result"
    }
   ],
   "source": [
    "df = pd.read_csv(filepaths.PATH_TO_LABELED_CSV)\n",
    "df.columns"
   ]
  },
  {
   "cell_type": "code",
   "execution_count": 3,
   "metadata": {},
   "outputs": [],
   "source": [
    "df[\"Thickness profile\"] = pd.to_numeric(df[\"Thickness profile\"], errors=\"coerce\")"
   ]
  },
  {
   "cell_type": "code",
   "execution_count": 4,
   "metadata": {},
   "outputs": [
    {
     "data": {
      "text/plain": [
       "Unnamed: 0                          -0.012139\n",
       "coil                                 0.000505\n",
       "furnace Number                       0.012055\n",
       "Hardness_1                           0.214507\n",
       "Hardness_2                           0.165182\n",
       "Width                               -0.061124\n",
       "Temperature before finishing mill   -0.003294\n",
       "Temperature after finishing mill     0.029210\n",
       "Thickness                           -0.179142\n",
       "Thickness profile                   -0.015433\n",
       "c                                    0.241048\n",
       "mn                                   0.328656\n",
       "si                                   0.302491\n",
       "nb                                  -0.128100\n",
       "p                                   -0.033705\n",
       "s                                   -0.195306\n",
       "al                                   0.180140\n",
       "ma                                   0.181562\n",
       "b                                    0.244905\n",
       "n                                    0.088081\n",
       "ti                                   0.002523\n",
       "cr                                   0.298300\n",
       "va                                   0.232972\n",
       "mo                                   0.209941\n",
       "Constriction                         1.000000\n",
       "Max separation                            NaN\n",
       "Number of separation points               NaN\n",
       "Name: Constriction, dtype: float64"
      ]
     },
     "execution_count": 4,
     "metadata": {},
     "output_type": "execute_result"
    }
   ],
   "source": [
    "df.corr()[\"Constriction\"]"
   ]
  },
  {
   "cell_type": "code",
   "execution_count": 5,
   "metadata": {},
   "outputs": [
    {
     "data": {
      "text/html": [
       "<div>\n",
       "<style scoped>\n",
       "    .dataframe tbody tr th:only-of-type {\n",
       "        vertical-align: middle;\n",
       "    }\n",
       "\n",
       "    .dataframe tbody tr th {\n",
       "        vertical-align: top;\n",
       "    }\n",
       "\n",
       "    .dataframe thead th {\n",
       "        text-align: right;\n",
       "    }\n",
       "</style>\n",
       "<table border=\"1\" class=\"dataframe\">\n",
       "  <thead>\n",
       "    <tr style=\"text-align: right;\">\n",
       "      <th></th>\n",
       "      <th>Hardness_1</th>\n",
       "      <th>Hardness_2</th>\n",
       "      <th>Width</th>\n",
       "      <th>Thickness</th>\n",
       "      <th>c</th>\n",
       "      <th>mn</th>\n",
       "      <th>si</th>\n",
       "      <th>nb</th>\n",
       "      <th>p</th>\n",
       "      <th>s</th>\n",
       "      <th>al</th>\n",
       "      <th>ma</th>\n",
       "      <th>b</th>\n",
       "      <th>n</th>\n",
       "      <th>cr</th>\n",
       "      <th>va</th>\n",
       "      <th>mo</th>\n",
       "      <th>Constriction</th>\n",
       "    </tr>\n",
       "  </thead>\n",
       "  <tbody>\n",
       "    <tr>\n",
       "      <th>0</th>\n",
       "      <td>10003</td>\n",
       "      <td>101</td>\n",
       "      <td>1302.1</td>\n",
       "      <td>4.36</td>\n",
       "      <td>355</td>\n",
       "      <td>2162</td>\n",
       "      <td>49</td>\n",
       "      <td>0</td>\n",
       "      <td>133</td>\n",
       "      <td>143</td>\n",
       "      <td>304</td>\n",
       "      <td>291</td>\n",
       "      <td>1</td>\n",
       "      <td>34</td>\n",
       "      <td>302</td>\n",
       "      <td>0</td>\n",
       "      <td>25</td>\n",
       "      <td>False</td>\n",
       "    </tr>\n",
       "    <tr>\n",
       "      <th>1</th>\n",
       "      <td>10123</td>\n",
       "      <td>101</td>\n",
       "      <td>1282.3</td>\n",
       "      <td>4.37</td>\n",
       "      <td>551</td>\n",
       "      <td>1985</td>\n",
       "      <td>101</td>\n",
       "      <td>0</td>\n",
       "      <td>118</td>\n",
       "      <td>90</td>\n",
       "      <td>395</td>\n",
       "      <td>384</td>\n",
       "      <td>1</td>\n",
       "      <td>33</td>\n",
       "      <td>189</td>\n",
       "      <td>25</td>\n",
       "      <td>7</td>\n",
       "      <td>False</td>\n",
       "    </tr>\n",
       "    <tr>\n",
       "      <th>2</th>\n",
       "      <td>10040</td>\n",
       "      <td>102</td>\n",
       "      <td>1297.4</td>\n",
       "      <td>4.43</td>\n",
       "      <td>457</td>\n",
       "      <td>1895</td>\n",
       "      <td>60</td>\n",
       "      <td>0</td>\n",
       "      <td>108</td>\n",
       "      <td>115</td>\n",
       "      <td>476</td>\n",
       "      <td>463</td>\n",
       "      <td>1</td>\n",
       "      <td>20</td>\n",
       "      <td>288</td>\n",
       "      <td>0</td>\n",
       "      <td>40</td>\n",
       "      <td>False</td>\n",
       "    </tr>\n",
       "    <tr>\n",
       "      <th>3</th>\n",
       "      <td>10243</td>\n",
       "      <td>102</td>\n",
       "      <td>1295.2</td>\n",
       "      <td>4.44</td>\n",
       "      <td>697</td>\n",
       "      <td>2008</td>\n",
       "      <td>69</td>\n",
       "      <td>0</td>\n",
       "      <td>139</td>\n",
       "      <td>98</td>\n",
       "      <td>306</td>\n",
       "      <td>296</td>\n",
       "      <td>1</td>\n",
       "      <td>21</td>\n",
       "      <td>253</td>\n",
       "      <td>0</td>\n",
       "      <td>9</td>\n",
       "      <td>False</td>\n",
       "    </tr>\n",
       "    <tr>\n",
       "      <th>4</th>\n",
       "      <td>10012</td>\n",
       "      <td>100</td>\n",
       "      <td>1293.3</td>\n",
       "      <td>3.95</td>\n",
       "      <td>477</td>\n",
       "      <td>1936</td>\n",
       "      <td>52</td>\n",
       "      <td>0</td>\n",
       "      <td>112</td>\n",
       "      <td>121</td>\n",
       "      <td>340</td>\n",
       "      <td>329</td>\n",
       "      <td>1</td>\n",
       "      <td>28</td>\n",
       "      <td>297</td>\n",
       "      <td>0</td>\n",
       "      <td>23</td>\n",
       "      <td>False</td>\n",
       "    </tr>\n",
       "  </tbody>\n",
       "</table>\n",
       "</div>"
      ],
      "text/plain": [
       "   Hardness_1  Hardness_2   Width  Thickness    c    mn   si  nb    p    s  \\\n",
       "0       10003         101  1302.1       4.36  355  2162   49   0  133  143   \n",
       "1       10123         101  1282.3       4.37  551  1985  101   0  118   90   \n",
       "2       10040         102  1297.4       4.43  457  1895   60   0  108  115   \n",
       "3       10243         102  1295.2       4.44  697  2008   69   0  139   98   \n",
       "4       10012         100  1293.3       3.95  477  1936   52   0  112  121   \n",
       "\n",
       "    al   ma  b   n   cr  va  mo  Constriction  \n",
       "0  304  291  1  34  302   0  25         False  \n",
       "1  395  384  1  33  189  25   7         False  \n",
       "2  476  463  1  20  288   0  40         False  \n",
       "3  306  296  1  21  253   0   9         False  \n",
       "4  340  329  1  28  297   0  23         False  "
      ]
     },
     "execution_count": 5,
     "metadata": {},
     "output_type": "execute_result"
    }
   ],
   "source": [
    "df_predict = df.drop([\"Unnamed: 0\", \"coil\", \"Max separation\", \"Number of separation points\", \"furnace Number\", \"Temperature before finishing mill\", \"Thickness profile\", \"ti\", \"analyse\", \"Temperature after finishing mill\"], axis=1)\n",
    "df_predict.head()"
   ]
  },
  {
   "cell_type": "code",
   "execution_count": 6,
   "metadata": {},
   "outputs": [
    {
     "data": {
      "text/plain": [
       "Hardness_1      0.214507\n",
       "Hardness_2      0.165182\n",
       "Width          -0.061124\n",
       "Thickness      -0.179142\n",
       "c               0.241048\n",
       "mn              0.328656\n",
       "si              0.302491\n",
       "nb             -0.128100\n",
       "p              -0.033705\n",
       "s              -0.195306\n",
       "al              0.180140\n",
       "ma              0.181562\n",
       "b               0.244905\n",
       "n               0.088081\n",
       "cr              0.298300\n",
       "va              0.232972\n",
       "mo              0.209941\n",
       "Constriction    1.000000\n",
       "Name: Constriction, dtype: float64"
      ]
     },
     "execution_count": 6,
     "metadata": {},
     "output_type": "execute_result"
    }
   ],
   "source": [
    "df_predict.corr()[\"Constriction\"]"
   ]
  },
  {
   "cell_type": "code",
   "execution_count": 7,
   "metadata": {},
   "outputs": [
    {
     "data": {
      "text/plain": [
       "Hardness_1        int64\n",
       "Hardness_2        int64\n",
       "Width           float64\n",
       "Thickness       float64\n",
       "c                 int64\n",
       "mn                int64\n",
       "si                int64\n",
       "nb                int64\n",
       "p                 int64\n",
       "s                 int64\n",
       "al                int64\n",
       "ma                int64\n",
       "b                 int64\n",
       "n                 int64\n",
       "cr                int64\n",
       "va                int64\n",
       "mo                int64\n",
       "Constriction       bool\n",
       "dtype: object"
      ]
     },
     "execution_count": 7,
     "metadata": {},
     "output_type": "execute_result"
    }
   ],
   "source": [
    "df_predict.dtypes"
   ]
  },
  {
   "cell_type": "code",
   "execution_count": 8,
   "metadata": {},
   "outputs": [
    {
     "name": "stdout",
     "output_type": "stream",
     "text": [
      "Hardness_1      0\n",
      "Hardness_2      0\n",
      "Width           0\n",
      "Thickness       0\n",
      "c               0\n",
      "mn              0\n",
      "si              0\n",
      "nb              0\n",
      "p               0\n",
      "s               0\n",
      "al              0\n",
      "ma              0\n",
      "b               0\n",
      "n               0\n",
      "cr              0\n",
      "va              0\n",
      "mo              0\n",
      "Constriction    0\n",
      "dtype: int64\n"
     ]
    }
   ],
   "source": [
    "print(df_predict.isna().sum())"
   ]
  },
  {
   "cell_type": "code",
   "execution_count": 9,
   "metadata": {},
   "outputs": [],
   "source": [
    "df_predict.dropna(inplace=True)"
   ]
  },
  {
   "cell_type": "code",
   "execution_count": 10,
   "metadata": {},
   "outputs": [
    {
     "name": "stdout",
     "output_type": "stream",
     "text": [
      "Hardness_1      0\n",
      "Hardness_2      0\n",
      "Width           0\n",
      "Thickness       0\n",
      "c               0\n",
      "mn              0\n",
      "si              0\n",
      "nb              0\n",
      "p               0\n",
      "s               0\n",
      "al              0\n",
      "ma              0\n",
      "b               0\n",
      "n               0\n",
      "cr              0\n",
      "va              0\n",
      "mo              0\n",
      "Constriction    0\n",
      "dtype: int64\n"
     ]
    }
   ],
   "source": [
    "print(df_predict.isna().sum())"
   ]
  },
  {
   "cell_type": "code",
   "execution_count": 11,
   "metadata": {},
   "outputs": [],
   "source": [
    "X = df_predict.drop([\"Constriction\"], axis=1)\n",
    "y = df_predict[\"Constriction\"]\n",
    "\n",
    "X_train, X_test, y_train, y_test = train_test_split(X, y, test_size=0.3, random_state=42)"
   ]
  },
  {
   "cell_type": "code",
   "execution_count": 12,
   "metadata": {},
   "outputs": [],
   "source": [
    "#scale the features\n",
    "from sklearn.preprocessing import StandardScaler\n",
    "\n",
    "sc = StandardScaler()\n",
    "\n",
    "X_train = sc.fit_transform(X_train)\n",
    "X_test = sc.transform(X_test)"
   ]
  },
  {
   "cell_type": "code",
   "execution_count": 13,
   "metadata": {},
   "outputs": [],
   "source": [
    "clf = tree.DecisionTreeClassifier(class_weight=\"balanced\")\n",
    "clf = clf.fit(X_train, y_train)"
   ]
  },
  {
   "cell_type": "code",
   "execution_count": 14,
   "metadata": {},
   "outputs": [
    {
     "data": {
      "text/plain": [
       "0.999846303601619"
      ]
     },
     "execution_count": 14,
     "metadata": {},
     "output_type": "execute_result"
    }
   ],
   "source": [
    "clf.score(X_train, y_train)"
   ]
  },
  {
   "cell_type": "code",
   "execution_count": 15,
   "metadata": {},
   "outputs": [
    {
     "data": {
      "text/plain": [
       "0.8339011415934493"
      ]
     },
     "execution_count": 15,
     "metadata": {},
     "output_type": "execute_result"
    }
   ],
   "source": [
    "clf.score(X_test, y_test)"
   ]
  },
  {
   "cell_type": "code",
   "execution_count": 16,
   "metadata": {},
   "outputs": [
    {
     "data": {
      "text/html": [
       "<div>\n",
       "<style scoped>\n",
       "    .dataframe tbody tr th:only-of-type {\n",
       "        vertical-align: middle;\n",
       "    }\n",
       "\n",
       "    .dataframe tbody tr th {\n",
       "        vertical-align: top;\n",
       "    }\n",
       "\n",
       "    .dataframe thead th {\n",
       "        text-align: right;\n",
       "    }\n",
       "</style>\n",
       "<table border=\"1\" class=\"dataframe\">\n",
       "  <thead>\n",
       "    <tr style=\"text-align: right;\">\n",
       "      <th>Predicted</th>\n",
       "      <th>False</th>\n",
       "      <th>True</th>\n",
       "      <th>All</th>\n",
       "    </tr>\n",
       "    <tr>\n",
       "      <th>Actual</th>\n",
       "      <th></th>\n",
       "      <th></th>\n",
       "      <th></th>\n",
       "    </tr>\n",
       "  </thead>\n",
       "  <tbody>\n",
       "    <tr>\n",
       "      <th>False</th>\n",
       "      <td>12685</td>\n",
       "      <td>1378</td>\n",
       "      <td>14063</td>\n",
       "    </tr>\n",
       "    <tr>\n",
       "      <th>True</th>\n",
       "      <td>1401</td>\n",
       "      <td>1267</td>\n",
       "      <td>2668</td>\n",
       "    </tr>\n",
       "    <tr>\n",
       "      <th>All</th>\n",
       "      <td>14086</td>\n",
       "      <td>2645</td>\n",
       "      <td>16731</td>\n",
       "    </tr>\n",
       "  </tbody>\n",
       "</table>\n",
       "</div>"
      ],
      "text/plain": [
       "Predicted  False  True    All\n",
       "Actual                       \n",
       "False      12685  1378  14063\n",
       "True        1401  1267   2668\n",
       "All        14086  2645  16731"
      ]
     },
     "execution_count": 16,
     "metadata": {},
     "output_type": "execute_result"
    }
   ],
   "source": [
    "from sklearn.metrics import confusion_matrix\n",
    "\n",
    "y_pred = clf.predict(X_test)\n",
    "confusion_matrix(y_pred=y_pred, y_true=y_test)\n",
    "\n",
    "pd.crosstab(y_test, y_pred, rownames = ['Actual'], colnames =['Predicted'], margins = True)"
   ]
  }
 ],
 "metadata": {
  "kernelspec": {
   "display_name": "Python 3",
   "language": "python",
   "name": "python3"
  },
  "language_info": {
   "codemirror_mode": {
    "name": "ipython",
    "version": 3
   },
   "file_extension": ".py",
   "mimetype": "text/x-python",
   "name": "python",
   "nbconvert_exporter": "python",
   "pygments_lexer": "ipython3",
   "version": "3.8.10"
  }
 },
 "nbformat": 4,
 "nbformat_minor": 4
}
