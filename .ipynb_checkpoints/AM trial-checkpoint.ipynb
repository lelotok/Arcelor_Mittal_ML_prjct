{
 "cells": [
  {
   "cell_type": "code",
   "execution_count": 1,
   "id": "10e689ad",
   "metadata": {},
   "outputs": [],
   "source": [
    "import pandas as pd\n",
    "import numpy as np\n",
    "import matplotlib.pyplot as plt"
   ]
  },
  {
   "cell_type": "code",
   "execution_count": 10,
   "id": "ee025358",
   "metadata": {},
   "outputs": [
    {
     "ename": "FileNotFoundError",
     "evalue": "[Errno 2] No such file or directory: '..\\\\..\\\\Documents\\\\Arcellor Mittal project\\\\SignalExport\\\\SignalExport@60B4.csv'",
     "output_type": "error",
     "traceback": [
      "\u001b[1;31m---------------------------------------------------------------------------\u001b[0m",
      "\u001b[1;31mFileNotFoundError\u001b[0m                         Traceback (most recent call last)",
      "\u001b[1;32m~\\AppData\\Local\\Temp/ipykernel_23444/4205969413.py\u001b[0m in \u001b[0;36m<module>\u001b[1;34m\u001b[0m\n\u001b[1;32m----> 1\u001b[1;33m \u001b[1;32mwith\u001b[0m \u001b[0mopen\u001b[0m\u001b[1;33m(\u001b[0m\u001b[1;34m'..\\..\\Documents\\Arcellor Mittal project\\SignalExport\\SignalExport\\10060B4.csv'\u001b[0m\u001b[1;33m)\u001b[0m \u001b[1;32mas\u001b[0m \u001b[0mfile\u001b[0m\u001b[1;33m:\u001b[0m\u001b[1;33m\u001b[0m\u001b[1;33m\u001b[0m\u001b[0m\n\u001b[0m\u001b[0;32m      2\u001b[0m     \u001b[1;32mfor\u001b[0m \u001b[0mline\u001b[0m \u001b[1;32min\u001b[0m \u001b[0mfile\u001b[0m\u001b[1;33m:\u001b[0m\u001b[1;33m\u001b[0m\u001b[1;33m\u001b[0m\u001b[0m\n\u001b[0;32m      3\u001b[0m         \u001b[0mdata\u001b[0m \u001b[1;33m=\u001b[0m \u001b[0mline\u001b[0m\u001b[1;33m.\u001b[0m\u001b[0msplit\u001b[0m\u001b[1;33m(\u001b[0m\u001b[1;34m';'\u001b[0m\u001b[1;33m)\u001b[0m\u001b[1;33m\u001b[0m\u001b[1;33m\u001b[0m\u001b[0m\n\u001b[0;32m      4\u001b[0m \u001b[0mindex\u001b[0m \u001b[1;33m=\u001b[0m \u001b[0mdata\u001b[0m\u001b[1;33m.\u001b[0m\u001b[0mindex\u001b[0m\u001b[1;33m(\u001b[0m\u001b[1;34m'Values'\u001b[0m\u001b[1;33m)\u001b[0m\u001b[1;33m\u001b[0m\u001b[1;33m\u001b[0m\u001b[0m\n",
      "\u001b[1;31mFileNotFoundError\u001b[0m: [Errno 2] No such file or directory: '..\\\\..\\\\Documents\\\\Arcellor Mittal project\\\\SignalExport\\\\SignalExport@60B4.csv'"
     ]
    }
   ],
   "source": [
    "with open('10060B4.csv') as file:\n",
    "    for line in file:\n",
    "        data = line.split(';')\n",
    "index = data.index('Values')"
   ]
  },
  {
   "cell_type": "code",
   "execution_count": null,
   "id": "905d8526",
   "metadata": {},
   "outputs": [],
   "source": [
    "data"
   ]
  },
  {
   "cell_type": "code",
   "execution_count": null,
   "id": "a222d156",
   "metadata": {},
   "outputs": [],
   "source": [
    "\"\"\"length = data[3:index]\n",
    "length\"\"\""
   ]
  },
  {
   "cell_type": "code",
   "execution_count": null,
   "id": "d492b57f",
   "metadata": {},
   "outputs": [],
   "source": [
    "\"\"\"values = data[653: -1]\n",
    "values\"\"\""
   ]
  },
  {
   "cell_type": "code",
   "execution_count": null,
   "id": "e72cd176",
   "metadata": {},
   "outputs": [],
   "source": [
    "B4 = pd.DataFrame(data[3:index], columns =['Length'])\n",
    "B4['B4_Values'] = data[index+1:-1]\n",
    "B4.head()"
   ]
  },
  {
   "cell_type": "code",
   "execution_count": null,
   "id": "7029ecf4",
   "metadata": {},
   "outputs": [],
   "source": [
    "B4['Length'] = pd.to_numeric(B4['Length'])\n",
    "B4['B4_Values'] = pd.to_numeric(B4['B4_Values'])\n",
    "\n",
    "print(B4.dtypes)"
   ]
  },
  {
   "cell_type": "code",
   "execution_count": null,
   "id": "5e453c44",
   "metadata": {},
   "outputs": [],
   "source": [
    "B4 = B4.loc[~(B4==0).any(axis=1)]"
   ]
  },
  {
   "cell_type": "code",
   "execution_count": null,
   "id": "3db6f213",
   "metadata": {},
   "outputs": [],
   "source": [
    "B4.head"
   ]
  },
  {
   "cell_type": "code",
   "execution_count": null,
   "id": "46fb14fe",
   "metadata": {},
   "outputs": [],
   "source": [
    "# Opening the B5 file\n",
    "\n",
    "with open('10060B5.csv') as file:\n",
    "    for line in file:\n",
    "        data = line.split(';')\n",
    "index = data.index('Values')"
   ]
  },
  {
   "cell_type": "code",
   "execution_count": null,
   "id": "2ddadd20",
   "metadata": {},
   "outputs": [],
   "source": [
    "B5 = pd.DataFrame(data[3:index], columns =['Length'])\n",
    "B5['B5_Values'] = data[index+1:-1]\n",
    "\n",
    "B5['Length'] = pd.to_numeric(B5['Length'])\n",
    "B5['B5_Values'] = pd.to_numeric(B5['B5_Values'])\n",
    "\n",
    "B5 = B5.loc[~(B5==0).any(axis=1)]"
   ]
  },
  {
   "cell_type": "code",
   "execution_count": null,
   "id": "2840e8f5",
   "metadata": {},
   "outputs": [],
   "source": [
    "B5.head"
   ]
  },
  {
   "cell_type": "code",
   "execution_count": null,
   "id": "acc4b111",
   "metadata": {},
   "outputs": [],
   "source": [
    "B4 = B4[B4.Length >= 140]\n",
    "B5 = B5[B5.Length >= 140]\n",
    "\n",
    "B4 = B4[B4.Length <= 170]\n",
    "B5 = B5[B5.Length <= 170]\n",
    "\n",
    "plt.plot(B4.Length,B4.B4_Values)\n",
    "plt.plot(B5.Length,B5.B5_Values)\n",
    "plt.legend(['B4','B5'])\n",
    "plt.show()"
   ]
  },
  {
   "cell_type": "code",
   "execution_count": null,
   "id": "f54af753",
   "metadata": {
    "scrolled": true
   },
   "outputs": [],
   "source": [
    "plt.scatter(B4.Length, B4.B4_Values)\n",
    "plt.scatter(B5.Length, B5.B5_Values)\n",
    "plt.show()"
   ]
  },
  {
   "cell_type": "code",
   "execution_count": null,
   "id": "29a28bb9",
   "metadata": {},
   "outputs": [],
   "source": [
    "\"\"\"# New DataFrame\n",
    "\n",
    "constrict = pd.DataFrame()\n",
    "constrict\n",
    "\n",
    "constrict['B4 length'] = B4.Length\n",
    "constrict['B4 values'] = B4.Values\n",
    "constrict['B5 length'] = B5.Length\n",
    "constrict['B5 values'] = B5.Values\n",
    "\n",
    "pd.set_option('display.max_rows', None)\n",
    "\n",
    "constrict\"\"\""
   ]
  },
  {
   "cell_type": "code",
   "execution_count": null,
   "id": "b7e463e8",
   "metadata": {},
   "outputs": [],
   "source": [
    "B4"
   ]
  },
  {
   "cell_type": "code",
   "execution_count": null,
   "id": "3152aee1",
   "metadata": {},
   "outputs": [],
   "source": [
    "index = 0\n",
    "B4_array = B4['Length'].to_numpy()\n",
    "B5_array = B5['Length'].to_numpy()\n",
    "\n",
    "for each in B5.Length:\n",
    "    value = each\n",
    "    closest = np.abs(B4_array-value)\n",
    "    smallest_difference_index = closest.argmin()\n",
    "    closest_element = B4_array[smallest_difference_index]\n",
    "    \n",
    "    print(closest_element)\n",
    "    \n",
    "    B5_array[index] = closest_element\n",
    "    index+=1\n",
    "    \n",
    "pd.set_option('display.max_rows', 200)\n",
    "\n",
    "B5.Length = B5_array \n",
    "B5"
   ]
  },
  {
   "cell_type": "code",
   "execution_count": null,
   "id": "fc4ef14b",
   "metadata": {},
   "outputs": [],
   "source": [
    "merged_df = pd.merge(B4,B5)\n",
    "merged_df"
   ]
  },
  {
   "cell_type": "code",
   "execution_count": null,
   "id": "82682885",
   "metadata": {},
   "outputs": [],
   "source": []
  }
 ],
 "metadata": {
  "kernelspec": {
   "display_name": "Python 3 (ipykernel)",
   "language": "python",
   "name": "python3"
  },
  "language_info": {
   "codemirror_mode": {
    "name": "ipython",
    "version": 3
   },
   "file_extension": ".py",
   "mimetype": "text/x-python",
   "name": "python",
   "nbconvert_exporter": "python",
   "pygments_lexer": "ipython3",
   "version": "3.9.7"
  }
 },
 "nbformat": 4,
 "nbformat_minor": 5
}
