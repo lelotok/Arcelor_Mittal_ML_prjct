{
 "cells": [
  {
   "cell_type": "code",
   "execution_count": 1,
   "id": "ebaad7f1",
   "metadata": {},
   "outputs": [],
   "source": [
    "import pandas as pd\n",
    "import numpy as np\n",
    "import matplotlib.pyplot as plt"
   ]
  },
  {
   "cell_type": "code",
   "execution_count": 4,
   "id": "0cca69db",
   "metadata": {},
   "outputs": [],
   "source": [
    "df = pd.read_csv(\"..\\\\..\\\\Documents\\\\Arcellor_Mittal_project\\\\CoilData_test.csv\")\n",
    "\n",
    "df['Constriction?'] = None\n",
    "df['Max constriction'] = None\n",
    "df['Number of constrictions'] = None\n",
    "\n",
    "df.to_csv(\"..\\\\..\\\\Documents\\\\Arcellor_Mittal_project\\\\CoilData_test.csv\", index=False)"
   ]
  },
  {
   "cell_type": "code",
   "execution_count": null,
   "id": "3e1c00d4",
   "metadata": {},
   "outputs": [],
   "source": []
  }
 ],
 "metadata": {
  "kernelspec": {
   "display_name": "Python 3 (ipykernel)",
   "language": "python",
   "name": "python3"
  },
  "language_info": {
   "codemirror_mode": {
    "name": "ipython",
    "version": 3
   },
   "file_extension": ".py",
   "mimetype": "text/x-python",
   "name": "python",
   "nbconvert_exporter": "python",
   "pygments_lexer": "ipython3",
   "version": "3.9.7"
  }
 },
 "nbformat": 4,
 "nbformat_minor": 5
}
