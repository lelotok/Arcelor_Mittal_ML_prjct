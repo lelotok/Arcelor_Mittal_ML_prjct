{
 "cells": [
  {
   "cell_type": "code",
   "execution_count": 3,
   "metadata": {},
   "outputs": [],
   "source": [
    "import pandas as pd\n",
    "import numpy as np\n",
    "import matplotlib.pyplot as plt\n",
    "from pathlib import Path\n",
    "import glob"
   ]
  },
  {
   "cell_type": "code",
   "execution_count": 5,
   "metadata": {},
   "outputs": [
    {
     "data": {
      "text/plain": [
       "\"\\nwith open(file_path) as file:\\n    for line in file:\\n        data = line.split(';')\\nstart_index = data.index('Lengthpoints')\\nindex = data.index('Values')\\n\""
      ]
     },
     "execution_count": 5,
     "metadata": {},
     "output_type": "execute_result"
    }
   ],
   "source": [
    "# 13368B4\n",
    "\n",
    "name = str(15623)\n",
    "file_path = \"../Metal_stuff/coil_data/\"+name+\"B4.csv\"\n",
    "\n",
    "\"\"\"\n",
    "with open(file_path) as file:\n",
    "    for line in file:\n",
    "        data = line.split(';')\n",
    "start_index = data.index('Lengthpoints')\n",
    "index = data.index('Values')\n",
    "\"\"\""
   ]
  },
  {
   "cell_type": "code",
   "execution_count": 8,
   "metadata": {},
   "outputs": [],
   "source": [
    "B4 = pd.read_csv(file_path)\n",
    "##B4['B4_Values'] = data[index+1:-1]\n",
    "##B4.head()"
   ]
  },
  {
   "cell_type": "code",
   "execution_count": null,
   "metadata": {},
   "outputs": [],
   "source": [
    "B4['Length'] = pd.to_numeric(B4['Length'])\n",
    "B4['B4_Values'] = pd.to_numeric(B4['B4_Values'])\n",
    "\n",
    "print(B4.dtypes)"
   ]
  },
  {
   "cell_type": "code",
   "execution_count": null,
   "metadata": {},
   "outputs": [],
   "source": [
    "B4 = B4.loc[~(B4==0).any(axis=1)]"
   ]
  },
  {
   "cell_type": "code",
   "execution_count": null,
   "metadata": {},
   "outputs": [],
   "source": [
    "print(B4.shape)\n",
    "B4.head()"
   ]
  },
  {
   "cell_type": "code",
   "execution_count": 9,
   "metadata": {},
   "outputs": [
    {
     "data": {
      "text/plain": [
       "\"\\nwith open(file_path) as file:\\n    for line in file:\\n        data = line.split(';')\\nstart_index = data.index('Lengthpoints:')\\nindex = data.index('Values')\\n\""
      ]
     },
     "execution_count": 9,
     "metadata": {},
     "output_type": "execute_result"
    }
   ],
   "source": [
    "# Opening the B5 file\n",
    "# 13368\n",
    "\n",
    "name = str(15623)\n",
    "file_path = \"../Metal_stuff/coil_data/\"+name+\"B5.csv\"\n",
    "\n",
    "\"\"\"\n",
    "with open(file_path) as file:\n",
    "    for line in file:\n",
    "        data = line.split(';')\n",
    "start_index = data.index('Lengthpoints:')\n",
    "index = data.index('Values')\n",
    "\"\"\""
   ]
  },
  {
   "cell_type": "code",
   "execution_count": 11,
   "metadata": {},
   "outputs": [
    {
     "data": {
      "text/plain": [
       "\"B5['B5_Values'] = data[index+1:-1]\\n\\nB5['Length'] = pd.to_numeric(B5['Length'])\\nB5['B5_Values'] = pd.to_numeric(B5['B5_Values'])\\n\\nB5 = B5.loc[~(B5==0).any(axis=1)]\""
      ]
     },
     "execution_count": 11,
     "metadata": {},
     "output_type": "execute_result"
    }
   ],
   "source": [
    "B5 = pd.read_csv(file_path)\n",
    "\"\"\"B5['B5_Values'] = data[index+1:-1]\n",
    "\n",
    "B5['Length'] = pd.to_numeric(B5['Length'])\n",
    "B5['B5_Values'] = pd.to_numeric(B5['B5_Values'])\n",
    "\n",
    "B5 = B5.loc[~(B5==0).any(axis=1)]\"\"\""
   ]
  },
  {
   "cell_type": "code",
   "execution_count": 12,
   "metadata": {},
   "outputs": [
    {
     "name": "stdout",
     "output_type": "stream",
     "text": [
      "(431, 2)\n"
     ]
    },
    {
     "data": {
      "text/html": [
       "<div>\n",
       "<style scoped>\n",
       "    .dataframe tbody tr th:only-of-type {\n",
       "        vertical-align: middle;\n",
       "    }\n",
       "\n",
       "    .dataframe tbody tr th {\n",
       "        vertical-align: top;\n",
       "    }\n",
       "\n",
       "    .dataframe thead th {\n",
       "        text-align: right;\n",
       "    }\n",
       "</style>\n",
       "<table border=\"1\" class=\"dataframe\">\n",
       "  <thead>\n",
       "    <tr style=\"text-align: right;\">\n",
       "      <th></th>\n",
       "      <th>Lengthpoints</th>\n",
       "      <th>Values</th>\n",
       "    </tr>\n",
       "  </thead>\n",
       "  <tbody>\n",
       "    <tr>\n",
       "      <th>0</th>\n",
       "      <td>0.440126</td>\n",
       "      <td>541.1</td>\n",
       "    </tr>\n",
       "    <tr>\n",
       "      <th>1</th>\n",
       "      <td>0.880138</td>\n",
       "      <td>541.1</td>\n",
       "    </tr>\n",
       "    <tr>\n",
       "      <th>2</th>\n",
       "      <td>1.319981</td>\n",
       "      <td>541.1</td>\n",
       "    </tr>\n",
       "    <tr>\n",
       "      <th>3</th>\n",
       "      <td>1.759993</td>\n",
       "      <td>541.1</td>\n",
       "    </tr>\n",
       "    <tr>\n",
       "      <th>4</th>\n",
       "      <td>2.200119</td>\n",
       "      <td>541.1</td>\n",
       "    </tr>\n",
       "  </tbody>\n",
       "</table>\n",
       "</div>"
      ],
      "text/plain": [
       "   Lengthpoints  Values\n",
       "0      0.440126   541.1\n",
       "1      0.880138   541.1\n",
       "2      1.319981   541.1\n",
       "3      1.759993   541.1\n",
       "4      2.200119   541.1"
      ]
     },
     "execution_count": 12,
     "metadata": {},
     "output_type": "execute_result"
    }
   ],
   "source": [
    "print(B5.shape)\n",
    "B5.head()"
   ]
  },
  {
   "cell_type": "code",
   "execution_count": 15,
   "metadata": {},
   "outputs": [
    {
     "data": {
      "image/png": "[encoded data removed]",
      "text/plain": [
       "<Figure size 432x288 with 1 Axes>"
      ]
     },
     "metadata": {
      "needs_background": "light"
     },
     "output_type": "display_data"
    }
   ],
   "source": [
    "B4 = B4[B4.Lengthpoints >= 140]\n",
    "B5 = B5[B5.Lengthpoints >= 140]\n",
    "\n",
    "B4 = B4[B4.Lengthpoints <= 170]\n",
    "B5 = B5[B5.Lengthpoints <= 170]\n",
    "\n",
    "plt.plot(B4.Lengthpoints,B4.Values)\n",
    "plt.plot(B5.Lengthpoints,B5.Values)\n",
    "plt.legend(['B4','B5'])\n",
    "plt.show()"
   ]
  },
  {
   "cell_type": "code",
   "execution_count": null,
   "metadata": {},
   "outputs": [],
   "source": [
    "B4"
   ]
  },
  {
   "cell_type": "code",
   "execution_count": null,
   "metadata": {},
   "outputs": [],
   "source": [
    "index = 0\n",
    "B4_array = B4['Length'].to_numpy()\n",
    "B5_array = B5['Length'].to_numpy()\n",
    "\n",
    "for each in B5.Length:\n",
    "    \n",
    "    closest = np.abs(B4_array-each)\n",
    "    smallest_difference_index = closest.argmin()\n",
    "    closest_element = B4_array[smallest_difference_index]\n",
    "    \n",
    "    print(closest_element)\n",
    "    \n",
    "    B5_array[index] = closest_element\n",
    "    index+=1\n",
    "    \n",
    "pd.set_option('display.max_rows', 200)\n",
    "\n",
    "B5.Length = B5_array \n",
    "B5"
   ]
  },
  {
   "cell_type": "code",
   "execution_count": null,
   "metadata": {},
   "outputs": [],
   "source": [
    "merged_df = pd.merge(B4,B5, how= 'left')\n",
    "merged_df"
   ]
  },
  {
   "cell_type": "code",
   "execution_count": null,
   "metadata": {},
   "outputs": [],
   "source": [
    "merged_df['difference'] = merged_df['B5_Values']-merged_df['B4_Values']\n",
    "merged_df"
   ]
  },
  {
   "cell_type": "code",
   "execution_count": null,
   "metadata": {},
   "outputs": [],
   "source": [
    "merged_df.fillna(method ='bfill', inplace = True)\n",
    "merged_df.fillna(method ='pad', inplace = True)\n",
    "merged_df"
   ]
  },
  {
   "cell_type": "code",
   "execution_count": null,
   "metadata": {},
   "outputs": [],
   "source": [
    "for value in merged_df['difference']:\n",
    "    if value <= -4:\n",
    "        print('Houston, we have constriction')\n",
    "    elif value >=4:\n",
    "        print('We have expanded')"
   ]
  },
  {
   "cell_type": "code",
   "execution_count": null,
   "metadata": {},
   "outputs": [],
   "source": [
    "print(merged_df[merged_df['difference']<=-4].index.values)"
   ]
  },
  {
   "cell_type": "code",
   "execution_count": null,
   "metadata": {},
   "outputs": [],
   "source": []
  }
 ],
 "metadata": {
  "kernelspec": {
   "display_name": "Python 3",
   "language": "python",
   "name": "python3"
  },
  "language_info": {
   "codemirror_mode": {
    "name": "ipython",
    "version": 3
   },
   "file_extension": ".py",
   "mimetype": "text/x-python",
   "name": "python",
   "nbconvert_exporter": "python",
   "pygments_lexer": "ipython3",
   "version": "3.8.10"
  }
 },
 "nbformat": 4,
 "nbformat_minor": 5
}
