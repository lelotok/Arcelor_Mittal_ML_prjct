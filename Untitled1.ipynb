{
 "cells": [
  {
   "cell_type": "code",
   "execution_count": null,
   "id": "ad6dfffd",
   "metadata": {},
   "outputs": [],
   "source": [
    "    constrictions = []\n",
    "    for each in merged_df['difference']:\n",
    "        if each <= -4:\n",
    "            constrictions.append(each)"
   ]
  },
  {
   "cell_type": "code",
   "execution_count": null,
   "id": "4c163519",
   "metadata": {},
   "outputs": [],
   "source": [
    "    if len(constrictions) == len(merged_df.difference)\n",
    "        coil_index = df.index[df['coil']== coil].tolist()\n",
    "        df.at[coil_index[0],'Constriction?'] = \"False\""
   ]
  }
 ],
 "metadata": {
  "kernelspec": {
   "display_name": "Python 3 (ipykernel)",
   "language": "python",
   "name": "python3"
  },
  "language_info": {
   "codemirror_mode": {
    "name": "ipython",
    "version": 3
   },
   "file_extension": ".py",
   "mimetype": "text/x-python",
   "name": "python",
   "nbconvert_exporter": "python",
   "pygments_lexer": "ipython3",
   "version": "3.9.7"
  }
 },
 "nbformat": 4,
 "nbformat_minor": 5
}
